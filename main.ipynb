{
 "cells": [
  {
   "cell_type": "code",
   "execution_count": null,
   "metadata": {},
   "outputs": [],
   "source": [
    "import os\n",
    "import tkinter as tk\n",
    "import cv2\n",
    "from tensorflow.keras.preprocessing import image\n",
    "import matplotlib.pyplot as plt\n",
    "import numpy as np\n",
    "from tensorflow.keras.models import load_model\n",
    "\n",
    "#load the model\n",
    "model = load_model('model\\gender.h5')\n",
    "\n",
    "for i in os.listdir(\"test\"):\n",
    "    img_path = os.path.join(\"test\", i)\n",
    "    print(i)\n",
    "    img = image.load_img(img_path)\n",
    "    img_np = image.img_to_array(img)\n",
    "    # resize the numpy array\n",
    "    img_resized = cv2.resize(img_np, (64, 64))\n",
    "    \n",
    "    plt.imshow(img_resized.astype('uint8')) \n",
    "    plt.show()\n",
    "    \n",
    "    # prepare image for model prediction\n",
    "    x = np.expand_dims(img_resized, axis=0)\n",
    "    val = model.predict(x)\n",
    "\n",
    "    if 0.001 >= val[::,0]:\n",
    "        val[::,0] = 0\n",
    "        print(\"這是男生(This is male)\")\n",
    "    if 0.001 >= val[::,1]:\n",
    "        val[::,1] = 0\n",
    "        print(\"這是女生(This is female)\")\n",
    "\n",
    "    print(val)"
   ]
  }
 ],
 "metadata": {
  "kernelspec": {
   "display_name": "Python 3",
   "language": "python",
   "name": "python3"
  },
  "language_info": {
   "codemirror_mode": {
    "name": "ipython",
    "version": 3
   },
   "file_extension": ".py",
   "mimetype": "text/x-python",
   "name": "python",
   "nbconvert_exporter": "python",
   "pygments_lexer": "ipython3",
   "version": "3.11.7"
  }
 },
 "nbformat": 4,
 "nbformat_minor": 2
}
